{
 "cells": [
  {
   "cell_type": "code",
   "execution_count": 7,
   "metadata": {},
   "outputs": [],
   "source": [
    "import pandas as pd\n",
    "import numpy as np\n",
    "from sklearn.neighbors import NearestNeighbors\n",
    "import time\n",
    "import sys\n",
    "import matplotlib.pyplot as plt\n",
    "from sklearn.cluster import MiniBatchKMeans\n",
    "import seaborn as sns\n",
    "import networkx as nx\n",
    "from scipy.spatial import Delaunay\n",
    "from tqdm import tqdm\n",
    "from matplotlib.patches import Patch\n",
    "from collections import Counter \n",
    "import seaborn as sns\n",
    "from scipy.stats import zscore\n",
    "from scipy.cluster import hierarchy\n",
    "from scipy.spatial import distance\n",
    "from sklearn.preprocessing import StandardScaler\n",
    "import pickle\n",
    "import os "
   ]
  },
  {
   "cell_type": "markdown",
   "metadata": {},
   "source": [
    "## Load data"
   ]
  },
  {
   "cell_type": "markdown",
   "metadata": {},
   "source": [
    "Load data and aggregate some of the annotations in to broader categories. "
   ]
  },
  {
   "cell_type": "code",
   "execution_count": 8,
   "metadata": {},
   "outputs": [],
   "source": [
    "annotation = pd.read_csv('../output/Scaled_data_121724/ROI.csv')\n",
    "\n",
    "annotation.loc[annotation['Annotation'].str.contains('CD8'), 'Annotation'] = 'CD8 T'\n",
    "annotation.loc[annotation['Annotation'].str.contains('CD4'), 'Annotation'] = 'CD4 T'\n",
    "annotation.loc[annotation['Annotation'].str.contains('Tumor'), 'Annotation'] = 'Tumor'\n",
    "annotation = annotation.loc[~annotation['Annotation'].isin(['Other', 'Neutrophil'])]\n",
    "annotation = annotation.loc[~annotation['coreName'].str.contains('Tonsil')]\n",
    "\n",
    "selected_cores =  [\"Rochester_4\", \"Rochester_6\",\n",
    "                    \"Rochester_7\", \"Rochester_9\", \"Rochester_11\", \"Rochester_12\",\n",
    "                    \"Rochester_13\", \"Rochester_14\",\n",
    "                    \"Rochester_15\", \"Rochester_16\", \"Rochester_17\", \"Rochester_18\",\n",
    "                    \"Rochester_19\", \"Rochester_21\", \"Rochester_23\", \"Rochester_25\",\n",
    "                     \"DFCI_2.2\", \"DFCI_3.2\",\n",
    "                    \"DFCI_4.1\", \"DFCI_7.1\", \"DFCI_8.1\",\n",
    "                    \"DFCI_12.1\", \"DFCI_13.2\", \"DFCI_14.1\", \"DFCI_15.2\", \"DFCI_17.1\",\n",
    "                    \"DFCI_18.2\", \"DFCI_19.2\", \"DFCI_22.2\", \"DFCI_23.2\"]\n",
    "\n",
    "annotation = annotation.loc[annotation['coreName'].isin(selected_cores)]\n",
    "\n",
    "annotation.loc[annotation['Annotation'].str.contains('M1'), 'Annotation'] = 'M1-like'\n",
    "annotation.loc[annotation['Annotation'].str.contains('M2'), 'Annotation'] = 'M2-like'"
   ]
  },
  {
   "cell_type": "markdown",
   "metadata": {},
   "source": [
    "Adding EBV status information"
   ]
  },
  {
   "cell_type": "code",
   "execution_count": 9,
   "metadata": {},
   "outputs": [],
   "source": [
    "annotation['ebv_status'] = annotation['coreName'].apply(lambda x: 'Positive' if x in [\"DFCI_1.2\", \"DFCI_2.2\", \"DFCI_3.2\",\n",
    "                         \"DFCI_4.1\", \"DFCI_6.1\", \"DFCI_7.1\", \"DFCI_8.1\", \"DFCI_9.1\", \"DFCI_11.1\",\n",
    "                         \"DFCI_12.1\", \"Rochester_4\", \"Rochester_5\",\"Rochester_7\",\n",
    "                         \"Rochester_9\", \"Rochester_10\",\"Rochester_14\", \"Rochester_11\", \"Rochester_15\",\n",
    "                         \"Rochester_16\", \"Rochester_17\", \"Rochester_18\",  \"Rochester_25\"\n",
    "                         ] else 'Negative') "
   ]
  },
  {
   "cell_type": "markdown",
   "metadata": {},
   "source": [
    "## Color palette for cell type"
   ]
  },
  {
   "cell_type": "code",
   "execution_count": 10,
   "metadata": {},
   "outputs": [],
   "source": [
    "celltype_color = {\"Tumor\" : \"#e51d1d\", \n",
    "                      \"CD8 T\" : \"#377eb8\", \n",
    "                      \"CD4 T\" : \"#4eaf49\", \n",
    "                      \"M1-like\" : \"#974da2\", \n",
    "                      \"M2-like\" : \"#ff8000\", \n",
    "                      \"DC\" : \"#83e3f0\", \n",
    "                      \"Endothelial\" : \"#c67f66\", \n",
    "                      \"Treg\" : \"#9ED900\", \n",
    "                      \"B cell\" : \"#e89ff0\",\n",
    "                    \"Other\": \"#D3D3D3E6\",\n",
    "                    \"Neutrophil\": \"#C85022\"}"
   ]
  },
  {
   "cell_type": "markdown",
   "metadata": {},
   "source": [
    "# Build graph"
   ]
  },
  {
   "cell_type": "markdown",
   "metadata": {},
   "source": [
    "## Helper functions\n",
    "\n",
    "`get_neighbors` returns the one-hop and two-hop neighbors for a given node. `within_threshold` detect if two nodes are within a given threshold. The default metric is Euclidean distance."
   ]
  },
  {
   "cell_type": "code",
   "execution_count": 11,
   "metadata": {},
   "outputs": [],
   "source": [
    "# Function to get one-hop and two-hop neighbors for a given node\n",
    "def get_neighbors(graph, node):\n",
    "    # Get one-hop neighbors\n",
    "    one_hop_neighbors = list(graph.neighbors(node))\n",
    "    \n",
    "    # Get two-hop neighbors\n",
    "    two_hop_neighbors = set()\n",
    "    for neighbor in one_hop_neighbors:\n",
    "        two_hop_neighbors.update(graph.neighbors(neighbor))\n",
    "    \n",
    "    # Remove the original node and one-hop neighbors from the two-hop neighbors\n",
    "    two_hop_neighbors.discard(node)\n",
    "    two_hop_neighbors.difference_update(one_hop_neighbors)\n",
    "    \n",
    "    return one_hop_neighbors, list(two_hop_neighbors)\n",
    "\n",
    "def within_threshold(p1, p2, mpp, threshold = 100):\n",
    "    distance = np.linalg.norm(p1 - p2) * mpp\n",
    "    return (distance <= threshold)"
   ]
  },
  {
   "cell_type": "markdown",
   "metadata": {},
   "source": [
    "Build graph. There are several outputs:\n",
    "\n",
    "- images of the graph built\n",
    "- One-hop, two-hop directory for each cell in all the cores. \n",
    "- The graph for each ROI and the count table for each ROI saved as `.pkl`."
   ]
  },
  {
   "cell_type": "code",
   "execution_count": 13,
   "metadata": {},
   "outputs": [
    {
     "name": "stderr",
     "output_type": "stream",
     "text": [
      "  0%|          | 0/30 [00:00<?, ?it/s]"
     ]
    },
    {
     "name": "stdout",
     "output_type": "stream",
     "text": [
      "Working on DFCI_4.1...\n",
      "Nodes in Graph match rows in dataframe: True\n"
     ]
    },
    {
     "name": "stderr",
     "output_type": "stream",
     "text": [
      "  3%|▎         | 1/30 [00:10<05:17, 10.94s/it]"
     ]
    },
    {
     "name": "stdout",
     "output_type": "stream",
     "text": [
      "Working on DFCI_8.1...\n",
      "Nodes in Graph match rows in dataframe: True\n"
     ]
    },
    {
     "name": "stderr",
     "output_type": "stream",
     "text": [
      "  7%|▋         | 2/30 [00:16<03:42,  7.96s/it]"
     ]
    },
    {
     "name": "stdout",
     "output_type": "stream",
     "text": [
      "Working on DFCI_13.2...\n",
      "Nodes in Graph match rows in dataframe: True\n"
     ]
    },
    {
     "name": "stderr",
     "output_type": "stream",
     "text": [
      " 10%|█         | 3/30 [00:26<04:00,  8.90s/it]"
     ]
    },
    {
     "name": "stdout",
     "output_type": "stream",
     "text": [
      "Working on DFCI_15.2...\n",
      "Nodes in Graph match rows in dataframe: True\n"
     ]
    },
    {
     "name": "stderr",
     "output_type": "stream",
     "text": [
      " 13%|█▎        | 4/30 [00:32<03:22,  7.80s/it]"
     ]
    },
    {
     "name": "stdout",
     "output_type": "stream",
     "text": [
      "Working on DFCI_17.1...\n",
      "Nodes in Graph match rows in dataframe: True\n"
     ]
    },
    {
     "name": "stderr",
     "output_type": "stream",
     "text": [
      " 17%|█▋        | 5/30 [00:43<03:35,  8.64s/it]"
     ]
    },
    {
     "name": "stdout",
     "output_type": "stream",
     "text": [
      "Working on DFCI_18.2...\n",
      "Nodes in Graph match rows in dataframe: True\n"
     ]
    },
    {
     "name": "stderr",
     "output_type": "stream",
     "text": [
      " 20%|██        | 6/30 [00:56<04:04, 10.18s/it]"
     ]
    },
    {
     "name": "stdout",
     "output_type": "stream",
     "text": [
      "Working on DFCI_19.2...\n",
      "Nodes in Graph match rows in dataframe: True\n"
     ]
    },
    {
     "name": "stderr",
     "output_type": "stream",
     "text": [
      " 23%|██▎       | 7/30 [01:08<04:10, 10.89s/it]"
     ]
    },
    {
     "name": "stdout",
     "output_type": "stream",
     "text": [
      "Working on DFCI_22.2...\n",
      "Nodes in Graph match rows in dataframe: True\n"
     ]
    },
    {
     "name": "stderr",
     "output_type": "stream",
     "text": [
      " 27%|██▋       | 8/30 [01:18<03:53, 10.61s/it]"
     ]
    },
    {
     "name": "stdout",
     "output_type": "stream",
     "text": [
      "Working on DFCI_12.1...\n",
      "Nodes in Graph match rows in dataframe: True\n"
     ]
    },
    {
     "name": "stderr",
     "output_type": "stream",
     "text": [
      " 30%|███       | 9/30 [01:25<03:16,  9.38s/it]"
     ]
    },
    {
     "name": "stdout",
     "output_type": "stream",
     "text": [
      "Working on DFCI_14.1...\n",
      "Nodes in Graph match rows in dataframe: True\n"
     ]
    },
    {
     "name": "stderr",
     "output_type": "stream",
     "text": [
      " 33%|███▎      | 10/30 [01:29<02:34,  7.71s/it]"
     ]
    },
    {
     "name": "stdout",
     "output_type": "stream",
     "text": [
      "Working on DFCI_2.2...\n",
      "Nodes in Graph match rows in dataframe: True\n"
     ]
    },
    {
     "name": "stderr",
     "output_type": "stream",
     "text": [
      " 37%|███▋      | 11/30 [01:38<02:36,  8.26s/it]"
     ]
    },
    {
     "name": "stdout",
     "output_type": "stream",
     "text": [
      "Working on DFCI_3.2...\n",
      "Nodes in Graph match rows in dataframe: True\n"
     ]
    },
    {
     "name": "stderr",
     "output_type": "stream",
     "text": [
      " 40%|████      | 12/30 [01:45<02:23,  7.95s/it]"
     ]
    },
    {
     "name": "stdout",
     "output_type": "stream",
     "text": [
      "Working on DFCI_7.1...\n",
      "Nodes in Graph match rows in dataframe: True\n"
     ]
    },
    {
     "name": "stderr",
     "output_type": "stream",
     "text": [
      " 43%|████▎     | 13/30 [01:54<02:20,  8.27s/it]"
     ]
    },
    {
     "name": "stdout",
     "output_type": "stream",
     "text": [
      "Working on DFCI_23.2...\n",
      "Nodes in Graph match rows in dataframe: True\n"
     ]
    },
    {
     "name": "stderr",
     "output_type": "stream",
     "text": [
      " 47%|████▋     | 14/30 [02:02<02:07,  7.99s/it]"
     ]
    },
    {
     "name": "stdout",
     "output_type": "stream",
     "text": [
      "Working on Rochester_4...\n",
      "Nodes in Graph match rows in dataframe: True\n"
     ]
    },
    {
     "name": "stderr",
     "output_type": "stream",
     "text": [
      " 50%|█████     | 15/30 [02:17<02:32, 10.14s/it]"
     ]
    },
    {
     "name": "stdout",
     "output_type": "stream",
     "text": [
      "Working on Rochester_6...\n",
      "Nodes in Graph match rows in dataframe: True\n"
     ]
    },
    {
     "name": "stderr",
     "output_type": "stream",
     "text": [
      " 53%|█████▎    | 16/30 [02:26<02:16,  9.73s/it]"
     ]
    },
    {
     "name": "stdout",
     "output_type": "stream",
     "text": [
      "Working on Rochester_11...\n",
      "Nodes in Graph match rows in dataframe: True\n"
     ]
    },
    {
     "name": "stderr",
     "output_type": "stream",
     "text": [
      " 57%|█████▋    | 17/30 [02:37<02:10, 10.07s/it]"
     ]
    },
    {
     "name": "stdout",
     "output_type": "stream",
     "text": [
      "Working on Rochester_12...\n",
      "Nodes in Graph match rows in dataframe: True\n"
     ]
    },
    {
     "name": "stderr",
     "output_type": "stream",
     "text": [
      " 60%|██████    | 18/30 [02:43<01:46,  8.92s/it]"
     ]
    },
    {
     "name": "stdout",
     "output_type": "stream",
     "text": [
      "Working on Rochester_14...\n",
      "Nodes in Graph match rows in dataframe: True\n"
     ]
    },
    {
     "name": "stderr",
     "output_type": "stream",
     "text": [
      " 63%|██████▎   | 19/30 [02:51<01:34,  8.59s/it]"
     ]
    },
    {
     "name": "stdout",
     "output_type": "stream",
     "text": [
      "Working on Rochester_18...\n",
      "Nodes in Graph match rows in dataframe: True\n"
     ]
    },
    {
     "name": "stderr",
     "output_type": "stream",
     "text": [
      " 67%|██████▋   | 20/30 [03:02<01:34,  9.45s/it]"
     ]
    },
    {
     "name": "stdout",
     "output_type": "stream",
     "text": [
      "Working on Rochester_19...\n",
      "Nodes in Graph match rows in dataframe: True\n"
     ]
    },
    {
     "name": "stderr",
     "output_type": "stream",
     "text": [
      " 70%|███████   | 21/30 [03:14<01:31, 10.13s/it]"
     ]
    },
    {
     "name": "stdout",
     "output_type": "stream",
     "text": [
      "Working on Rochester_21...\n",
      "Nodes in Graph match rows in dataframe: True\n"
     ]
    },
    {
     "name": "stderr",
     "output_type": "stream",
     "text": [
      " 73%|███████▎  | 22/30 [03:24<01:21, 10.23s/it]"
     ]
    },
    {
     "name": "stdout",
     "output_type": "stream",
     "text": [
      "Working on Rochester_23...\n",
      "Nodes in Graph match rows in dataframe: True\n"
     ]
    },
    {
     "name": "stderr",
     "output_type": "stream",
     "text": [
      " 77%|███████▋  | 23/30 [03:35<01:13, 10.48s/it]"
     ]
    },
    {
     "name": "stdout",
     "output_type": "stream",
     "text": [
      "Working on Rochester_13...\n",
      "Nodes in Graph match rows in dataframe: True\n"
     ]
    },
    {
     "name": "stderr",
     "output_type": "stream",
     "text": [
      " 80%|████████  | 24/30 [03:46<01:03, 10.66s/it]"
     ]
    },
    {
     "name": "stdout",
     "output_type": "stream",
     "text": [
      "Working on Rochester_15...\n",
      "Nodes in Graph match rows in dataframe: True\n"
     ]
    },
    {
     "name": "stderr",
     "output_type": "stream",
     "text": [
      " 83%|████████▎ | 25/30 [03:56<00:51, 10.26s/it]"
     ]
    },
    {
     "name": "stdout",
     "output_type": "stream",
     "text": [
      "Working on Rochester_17...\n",
      "Nodes in Graph match rows in dataframe: True\n"
     ]
    },
    {
     "name": "stderr",
     "output_type": "stream",
     "text": [
      " 87%|████████▋ | 26/30 [04:06<00:40, 10.19s/it]"
     ]
    },
    {
     "name": "stdout",
     "output_type": "stream",
     "text": [
      "Working on Rochester_25...\n",
      "Nodes in Graph match rows in dataframe: True\n"
     ]
    },
    {
     "name": "stderr",
     "output_type": "stream",
     "text": [
      " 90%|█████████ | 27/30 [04:15<00:29,  9.84s/it]"
     ]
    },
    {
     "name": "stdout",
     "output_type": "stream",
     "text": [
      "Working on Rochester_7...\n",
      "Nodes in Graph match rows in dataframe: True\n"
     ]
    },
    {
     "name": "stderr",
     "output_type": "stream",
     "text": [
      " 93%|█████████▎| 28/30 [04:28<00:21, 10.78s/it]"
     ]
    },
    {
     "name": "stdout",
     "output_type": "stream",
     "text": [
      "Working on Rochester_16...\n",
      "Nodes in Graph match rows in dataframe: True\n"
     ]
    },
    {
     "name": "stderr",
     "output_type": "stream",
     "text": [
      " 97%|█████████▋| 29/30 [04:38<00:10, 10.47s/it]"
     ]
    },
    {
     "name": "stdout",
     "output_type": "stream",
     "text": [
      "Working on Rochester_9...\n",
      "Nodes in Graph match rows in dataframe: True\n"
     ]
    },
    {
     "name": "stderr",
     "output_type": "stream",
     "text": [
      "100%|██████████| 30/30 [04:44<00:00,  9.47s/it]\n"
     ]
    }
   ],
   "source": [
    "graph_dict = {}\n",
    "\n",
    "count_df_dict = {}\n",
    "\n",
    "for core in tqdm(annotation['coreName'].unique()):\n",
    "    print(f'Working on {core}...')\n",
    "    # Create a new figure for each core\n",
    "    fig, ax = plt.subplots(figsize=(20, 20))\n",
    "\n",
    "    # subset data\n",
    "    sub_df = annotation.loc[annotation['coreName'] == core] \n",
    "    sub_df = sub_df.loc[~sub_df['Annotation'].isin(['Neutrophil', 'Other'])]\n",
    "    pts = sub_df.loc[:,['X_cent_fusion', 'Y_cent_fusion']].values\n",
    "    sub_df_reindex = sub_df.reset_index(drop = True)\n",
    "\n",
    "    # Delaunay triangulation\n",
    "    tri = Delaunay(points = pts)\n",
    "    \n",
    "    # Create a graph from the triangulation\n",
    "    G = nx.Graph()\n",
    "    G.add_nodes_from(range(len(pts)))\n",
    "    MPP = 0.5 # micron per pixel\n",
    "    THRESHOLD = 20 # only connect nodes if they are within 50um of each other \n",
    "    for simplex in tri.simplices:\n",
    "        if within_threshold(pts[simplex[0]], pts[simplex[1]], mpp = MPP, threshold = THRESHOLD):\n",
    "            G.add_edge(simplex[0], simplex[1])\n",
    "        if within_threshold(pts[simplex[1]], pts[simplex[2]], mpp = MPP, threshold = THRESHOLD):\n",
    "            G.add_edge(simplex[1], simplex[2])\n",
    "        if within_threshold(pts[simplex[2]], pts[simplex[0]], mpp = MPP, threshold = THRESHOLD):\n",
    "            G.add_edge(simplex[2], simplex[0])\n",
    "    print(f'Nodes in Graph match rows in dataframe: {G.number_of_nodes() == sub_df.shape[0]}')\n",
    "\n",
    "    # append graph to graph dict\n",
    "\n",
    "    graph_dict[core] = G\n",
    "\n",
    "    # position of the nodes for plotting\n",
    "    pos = dict(zip(range(len(pts)), pts))\n",
    "\n",
    "    # Convert positions to a numpy array for easy transformation\n",
    "    pos_array = np.array([coords for coords in pos.values()])\n",
    "\n",
    "    # Reflect the graph about the x-axis (flip y-coordinates)\n",
    "    reflected_array = pos_array * [1, -1]\n",
    "\n",
    "    # Create a new position dictionary from the reflected array\n",
    "    reflected_pos = dict(zip(pos.keys(), reflected_array))\n",
    "\n",
    "    output = '../output/hop_analysis_121724/graph_20um'\n",
    "\n",
    "    os.makedirs(output, exist_ok=True)\n",
    "\n",
    "    # Create a list of colors for each node based on its annotation\n",
    "    node_colors = [celltype_color[annotation] for annotation in sub_df['Annotation']]\n",
    "\n",
    "    # plot the graph\n",
    "    nx.draw_networkx_nodes(G, pos=reflected_pos, node_size=20, node_color=node_colors, ax=ax)\n",
    "    nx.draw_networkx_edges(G, pos=reflected_pos, edge_color='gray', alpha=0.5, ax=ax)\n",
    "    \n",
    "    # Create legend\n",
    "    legend_handles = []\n",
    "    legend_labels = []\n",
    "\n",
    "    # Iterate over the cell types and colors present in this core\n",
    "    for celltype in sub_df['Annotation'].unique():\n",
    "        color = celltype_color[celltype]\n",
    "        # Create a Patch for each cell type\n",
    "        patch = Patch(color=color, label=celltype)\n",
    "        legend_handles.append(patch)\n",
    "        legend_labels.append(celltype)\n",
    "\n",
    "    # Create the legend\n",
    "    ax.legend(handles=legend_handles, labels=legend_labels, loc='center left', bbox_to_anchor=(1, 0.5), fontsize='medium')\n",
    "\n",
    "    ax.set_title(f'Cell Graph for Core: {core}')\n",
    "    ax.axis('equal')\n",
    "    ax.axis('off')\n",
    "\n",
    "    plt.tight_layout()\n",
    "    plt.savefig(f'../output/hop_analysis_121724/graph_20um/{core}.png')\n",
    "    plt.close()\n",
    "\n",
    "    # Create a dict to store the 1-hop, 2-hop neighbors\n",
    "\n",
    "    neighbors_dict = {}\n",
    "\n",
    "    for node in G.nodes():\n",
    "        neighbors_dict[node] = {}\n",
    "        one_hop, two_hop = get_neighbors(G, node)\n",
    "        neighbors_dict[node]['one hop'] = one_hop\n",
    "        neighbors_dict[node]['two hop'] = two_hop\n",
    "\n",
    "    cellLabel_neighbors_dict = {}\n",
    "\n",
    "    for key, item in neighbors_dict.items():\n",
    "        new_key = sub_df_reindex['cellLabel'][key]\n",
    "        cellLabel_neighbors_dict[new_key] = {}\n",
    "        one_hop_cellLabel = str(sub_df_reindex['cellLabel'][item['one hop']].values)\n",
    "        two_hop_cellLabel = str(sub_df_reindex['cellLabel'][item['two hop']].values)\n",
    "        cellLabel_neighbors_dict[new_key]['one hop'] = one_hop_cellLabel\n",
    "        cellLabel_neighbors_dict[new_key]['two hop'] = two_hop_cellLabel\n",
    "\n",
    "\n",
    "    LUT_df = pd.DataFrame([(key, item['one hop'], item['two hop']) for key, item in cellLabel_neighbors_dict.items()],\n",
    "                                columns=['cellLabel', 'one_hop', 'two_hop'])\n",
    "    \n",
    "    output = '../output/hop_analysis_121724/LUT_ROI'\n",
    "\n",
    "    os.makedirs(output, exist_ok=True)\n",
    "\n",
    "    LUT_df.to_csv(f'{output}/{core}.csv', index=False)\n",
    "\n",
    "    # Anchor on each celltype and check its neighbors\n",
    "\n",
    "    count_df_dict[core] = {}\n",
    "\n",
    "    for i in sub_df_reindex['Annotation'].unique():\n",
    "        idx = sub_df_reindex[sub_df_reindex['Annotation'] == i].index\n",
    "        celltype_df = sub_df_reindex.iloc[idx]\n",
    "        count_df_dict[core][i] = {}\n",
    "        count_dict_one_hop = {}\n",
    "        count_dict_two_hop = {}\n",
    "        count_dict_one_and_two = {}\n",
    "        for j in idx:\n",
    "            one_hop = neighbors_dict[j]['one hop']\n",
    "            two_hop = neighbors_dict[j]['two hop']\n",
    "            \n",
    "            j_df_one_hop = sub_df_reindex['Annotation'][one_hop]\n",
    "            iter_counts_one_hop = Counter(j_df_one_hop)\n",
    "            count_dict_one_hop[sub_df_reindex['cellLabel'][j]] = iter_counts_one_hop\n",
    "            \n",
    "            j_df_two_hop = sub_df_reindex['Annotation'][two_hop]\n",
    "            iter_counts_two_hop = Counter(j_df_two_hop)\n",
    "            count_dict_two_hop[sub_df_reindex['cellLabel'][j]] = iter_counts_two_hop\n",
    "\n",
    "            j_df_one_and_two = sub_df_reindex['Annotation'][[i for i in one_hop + two_hop]]\n",
    "            iter_counts_one_and_two = Counter(j_df_one_and_two)\n",
    "            count_dict_one_and_two[sub_df_reindex['cellLabel'][j]] = iter_counts_one_and_two\n",
    "        count_df_one_hop = pd.DataFrame(count_dict_one_hop).transpose().fillna(0)\n",
    "        count_df_two_hop = pd.DataFrame(count_dict_two_hop).transpose().fillna(0)\n",
    "        count_df_one_and_two = pd.DataFrame(count_dict_one_and_two).transpose().fillna(0)\n",
    "\n",
    "        count_df_dict[core][i]['one_hop'] = count_df_one_hop\n",
    "        count_df_dict[core][i]['two_hop'] = count_df_two_hop\n",
    "        count_df_dict[core][i]['one_and_two'] = count_df_one_and_two\n",
    "\n",
    "with open('../output/hop_analysis_121724/count_df_dict_ROI.pkl', 'wb') as handle:\n",
    "    pickle.dump(count_df_dict, handle, protocol=pickle.HIGHEST_PROTOCOL)\n",
    "\n",
    "with open('../output/hop_analysis_121724/graph_dict_ROI.pkl', 'wb') as handle:\n",
    "    pickle.dump(graph_dict, handle, protocol=pickle.HIGHEST_PROTOCOL) \n",
    "\n",
    "    \n",
    "    \n",
    "\n",
    "\n",
    "\n",
    "\n",
    "\n",
    "\n"
   ]
  },
  {
   "cell_type": "markdown",
   "metadata": {},
   "source": [
    "Anchor on CD4 T cell and check the counts for its one-hop and two-hop neighbors."
   ]
  },
  {
   "cell_type": "code",
   "execution_count": 14,
   "metadata": {},
   "outputs": [],
   "source": [
    "cell_ls = []\n",
    "for core in annotation['coreName'].unique():\n",
    "    df = pd.concat([count_df_dict[core]['CD4 T']['one_hop']])\n",
    "    cell_ls.append(df)\n",
    "\n",
    "cell_count = pd.concat(cell_ls).fillna(0)\n",
    "cell_ls_two_hop = []\n",
    "for core in annotation['coreName'].unique():\n",
    "    df = pd.concat([count_df_dict[core]['CD4 T']['two_hop']])\n",
    "    cell_ls_two_hop.append(df)\n",
    "cell_count_two_hop = pd.concat(cell_ls_two_hop).fillna(0)\n",
    "\n",
    "cell_ls_one_and_two = []\n",
    "for core in annotation['coreName'].unique():\n",
    "    df = pd.concat([count_df_dict[core]['CD4 T']['one_and_two']])\n",
    "    cell_ls_one_and_two.append(df)\n",
    "cell_count_one_and_two = pd.concat(cell_ls_one_and_two).fillna(0)\n"
   ]
  },
  {
   "cell_type": "markdown",
   "metadata": {},
   "source": [
    "## MiniBatchKMeans"
   ]
  },
  {
   "cell_type": "markdown",
   "metadata": {},
   "source": [
    "### 1-hop"
   ]
  },
  {
   "cell_type": "markdown",
   "metadata": {},
   "source": [
    "Elbow plot to determine K for K-means."
   ]
  },
  {
   "cell_type": "code",
   "execution_count": 15,
   "metadata": {},
   "outputs": [
    {
     "name": "stderr",
     "output_type": "stream",
     "text": [
      "100%|██████████| 28/28 [00:10<00:00,  2.63it/s]\n"
     ]
    },
    {
     "data": {
      "image/png": "[encoded data removed]",
      "text/plain": [
       "<Figure size 1000x600 with 1 Axes>"
      ]
     },
     "metadata": {},
     "output_type": "display_data"
    }
   ],
   "source": [
    "from sklearn.cluster import MiniBatchKMeans, KMeans\n",
    "from scipy.stats import zscore\n",
    "import numpy as np\n",
    "import matplotlib.pyplot as plt\n",
    "import seaborn as sns\n",
    "import matplotlib.colors as colors\n",
    "from mpl_toolkits.axes_grid1 import make_axes_locatable\n",
    "\n",
    "\n",
    "# Define the range of n_neighborhoods to test\n",
    "n_neighborhoods_range = range(2, 30)  # Testing from 2 to 10 clusters\n",
    "inertias = []\n",
    "\n",
    "# Loop through different n_neighborhoods\n",
    "for n in tqdm(n_neighborhoods_range):\n",
    "    km = MiniBatchKMeans(n_clusters=n, random_state=12345)\n",
    "    km.fit(cell_count.iloc[:,[0,1,2,3,4,5,6,7]].values)\n",
    "    inertias.append(km.inertia_)\n",
    "\n",
    "# Plot the inertias (within-class variances)\n",
    "plt.figure(figsize=(10, 6))\n",
    "plt.plot(n_neighborhoods_range, inertias, 'bo-')\n",
    "plt.xlabel('Number of Motifs')\n",
    "plt.ylabel('Within-class Variance (Inertia)')\n",
    "plt.title('Inertia vs. Number of Motifs')\n",
    "plt.xticks(n_neighborhoods_range)\n",
    "plt.grid(True)\n",
    "plt.savefig('../output/hop_analysis_121724/1_hop_elbow_seed12345_ROI.pdf')"
   ]
  },
  {
   "cell_type": "markdown",
   "metadata": {},
   "source": [
    "K-means clustering."
   ]
  },
  {
   "cell_type": "code",
   "execution_count": 17,
   "metadata": {},
   "outputs": [
    {
     "name": "stdout",
     "output_type": "stream",
     "text": [
      "Suggested optimal number of clusters: 5\n",
      "Please inspect the elbow plot to confirm or adjust this value.\n"
     ]
    },
    {
     "data": {
      "image/png": "[encoded data removed]",
      "text/plain": [
       "<Figure size 1000x1000 with 2 Axes>"
      ]
     },
     "metadata": {},
     "output_type": "display_data"
    }
   ],
   "source": [
    "# Define the desired order of cell types\n",
    "cell_type_order = ['Tumor', 'CD4 T', 'CD8 T', 'Treg', 'M2-like', 'M1-like', 'DC', 'Endothelial']\n",
    "# Create a custom colormap\n",
    "custom_cmap = colors.LinearSegmentedColormap.from_list(\"custom\", \n",
    "                                                       [\"#4575b4\", \"white\", \"#d73027\"])\n",
    "\n",
    "# Find the optimal n_neighborhoods using the elbow method\n",
    "# This is a simple implementation and might need manual inspection\n",
    "inertia_differences = np.diff(inertias)\n",
    "optimal_n = 5\n",
    "print(f\"Suggested optimal number of clusters: {optimal_n}\")\n",
    "print(\"Please inspect the elbow plot to confirm or adjust this value.\")\n",
    "\n",
    "# Use the optimal number of clusters\n",
    "n_neighborhoods = optimal_n\n",
    "neighborhood_name = \"Niche\"\n",
    "\n",
    "km = MiniBatchKMeans(n_clusters=n_neighborhoods, random_state=12345)\n",
    "\n",
    "labelskm = km.fit_predict(cell_count.iloc[:,[0,1,2,3,4,5,6,7]].values)\n",
    "cell_count['Niche'] = labelskm\n",
    "\n",
    "grouped_df = cell_count.iloc[:,[0,1,2,3,4,5,6,7,8]].groupby('Niche').mean()\n",
    "z_scores = grouped_df.apply(zscore)\n",
    "\n",
    "max_abs_val = np.abs(z_scores).max().max()\n",
    "\n",
    "\n",
    "# Create a heatmap\n",
    "plt.figure(figsize=(10, 10))\n",
    "heatmap = sns.heatmap(z_scores, cmap=custom_cmap, annot=False, cbar_kws={'label': 'Z-score'}, vmin=-2, vmax=2, center=0, square = True, xticklabels=cell_type_order)\n",
    "\n",
    "plt.title(f'1-Hop Motif around T cells (n_clusters={n_neighborhoods})')\n",
    "plt.xlabel('Cell Types')\n",
    "plt.ylabel('Motif')\n",
    "plt.savefig('../output/hop_analysis_121724/heatmap/1_hop_motif_z_ROI.pdf')\n",
    "plt.show()"
   ]
  },
  {
   "cell_type": "code",
   "execution_count": 45,
   "metadata": {},
   "outputs": [
    {
     "data": {
      "text/html": [
       "<div>\n",
       "<style scoped>\n",
       "    .dataframe tbody tr th:only-of-type {\n",
       "        vertical-align: middle;\n",
       "    }\n",
       "\n",
       "    .dataframe tbody tr th {\n",
       "        vertical-align: top;\n",
       "    }\n",
       "\n",
       "    .dataframe thead th {\n",
       "        text-align: right;\n",
       "    }\n",
       "</style>\n",
       "<table border=\"1\" class=\"dataframe\">\n",
       "  <thead>\n",
       "    <tr style=\"text-align: right;\">\n",
       "      <th></th>\n",
       "      <th>Tumor</th>\n",
       "      <th>CD4 T</th>\n",
       "      <th>CD8 T</th>\n",
       "      <th>M1-like</th>\n",
       "      <th>Treg</th>\n",
       "      <th>DC</th>\n",
       "      <th>M2-like</th>\n",
       "      <th>Endothelial</th>\n",
       "      <th>Niche</th>\n",
       "    </tr>\n",
       "  </thead>\n",
       "  <tbody>\n",
       "    <tr>\n",
       "      <th>1918</th>\n",
       "      <td>1.0</td>\n",
       "      <td>2.0</td>\n",
       "      <td>1.0</td>\n",
       "      <td>1.0</td>\n",
       "      <td>0.0</td>\n",
       "      <td>0.0</td>\n",
       "      <td>0.0</td>\n",
       "      <td>0.0</td>\n",
       "      <td>1</td>\n",
       "    </tr>\n",
       "    <tr>\n",
       "      <th>2345</th>\n",
       "      <td>3.0</td>\n",
       "      <td>0.0</td>\n",
       "      <td>0.0</td>\n",
       "      <td>0.0</td>\n",
       "      <td>2.0</td>\n",
       "      <td>0.0</td>\n",
       "      <td>0.0</td>\n",
       "      <td>0.0</td>\n",
       "      <td>3</td>\n",
       "    </tr>\n",
       "    <tr>\n",
       "      <th>2595</th>\n",
       "      <td>2.0</td>\n",
       "      <td>1.0</td>\n",
       "      <td>2.0</td>\n",
       "      <td>0.0</td>\n",
       "      <td>0.0</td>\n",
       "      <td>0.0</td>\n",
       "      <td>0.0</td>\n",
       "      <td>0.0</td>\n",
       "      <td>2</td>\n",
       "    </tr>\n",
       "    <tr>\n",
       "      <th>2822</th>\n",
       "      <td>0.0</td>\n",
       "      <td>2.0</td>\n",
       "      <td>3.0</td>\n",
       "      <td>0.0</td>\n",
       "      <td>1.0</td>\n",
       "      <td>1.0</td>\n",
       "      <td>1.0</td>\n",
       "      <td>0.0</td>\n",
       "      <td>2</td>\n",
       "    </tr>\n",
       "    <tr>\n",
       "      <th>2834</th>\n",
       "      <td>0.0</td>\n",
       "      <td>5.0</td>\n",
       "      <td>1.0</td>\n",
       "      <td>0.0</td>\n",
       "      <td>0.0</td>\n",
       "      <td>0.0</td>\n",
       "      <td>0.0</td>\n",
       "      <td>0.0</td>\n",
       "      <td>4</td>\n",
       "    </tr>\n",
       "    <tr>\n",
       "      <th>...</th>\n",
       "      <td>...</td>\n",
       "      <td>...</td>\n",
       "      <td>...</td>\n",
       "      <td>...</td>\n",
       "      <td>...</td>\n",
       "      <td>...</td>\n",
       "      <td>...</td>\n",
       "      <td>...</td>\n",
       "      <td>...</td>\n",
       "    </tr>\n",
       "    <tr>\n",
       "      <th>18214</th>\n",
       "      <td>1.0</td>\n",
       "      <td>3.0</td>\n",
       "      <td>1.0</td>\n",
       "      <td>0.0</td>\n",
       "      <td>1.0</td>\n",
       "      <td>0.0</td>\n",
       "      <td>0.0</td>\n",
       "      <td>0.0</td>\n",
       "      <td>1</td>\n",
       "    </tr>\n",
       "    <tr>\n",
       "      <th>18288</th>\n",
       "      <td>1.0</td>\n",
       "      <td>0.0</td>\n",
       "      <td>0.0</td>\n",
       "      <td>2.0</td>\n",
       "      <td>1.0</td>\n",
       "      <td>0.0</td>\n",
       "      <td>0.0</td>\n",
       "      <td>0.0</td>\n",
       "      <td>0</td>\n",
       "    </tr>\n",
       "    <tr>\n",
       "      <th>18486</th>\n",
       "      <td>0.0</td>\n",
       "      <td>0.0</td>\n",
       "      <td>1.0</td>\n",
       "      <td>0.0</td>\n",
       "      <td>1.0</td>\n",
       "      <td>0.0</td>\n",
       "      <td>0.0</td>\n",
       "      <td>1.0</td>\n",
       "      <td>0</td>\n",
       "    </tr>\n",
       "    <tr>\n",
       "      <th>18622</th>\n",
       "      <td>0.0</td>\n",
       "      <td>2.0</td>\n",
       "      <td>0.0</td>\n",
       "      <td>1.0</td>\n",
       "      <td>1.0</td>\n",
       "      <td>0.0</td>\n",
       "      <td>0.0</td>\n",
       "      <td>0.0</td>\n",
       "      <td>1</td>\n",
       "    </tr>\n",
       "    <tr>\n",
       "      <th>18850</th>\n",
       "      <td>2.0</td>\n",
       "      <td>0.0</td>\n",
       "      <td>1.0</td>\n",
       "      <td>0.0</td>\n",
       "      <td>1.0</td>\n",
       "      <td>0.0</td>\n",
       "      <td>0.0</td>\n",
       "      <td>0.0</td>\n",
       "      <td>2</td>\n",
       "    </tr>\n",
       "  </tbody>\n",
       "</table>\n",
       "<p>31404 rows × 9 columns</p>\n",
       "</div>"
      ],
      "text/plain": [
       "       Tumor  CD4 T  CD8 T  M1-like  Treg   DC  M2-like  Endothelial  Niche\n",
       "1918     1.0    2.0    1.0      1.0   0.0  0.0      0.0          0.0      1\n",
       "2345     3.0    0.0    0.0      0.0   2.0  0.0      0.0          0.0      3\n",
       "2595     2.0    1.0    2.0      0.0   0.0  0.0      0.0          0.0      2\n",
       "2822     0.0    2.0    3.0      0.0   1.0  1.0      1.0          0.0      2\n",
       "2834     0.0    5.0    1.0      0.0   0.0  0.0      0.0          0.0      4\n",
       "...      ...    ...    ...      ...   ...  ...      ...          ...    ...\n",
       "18214    1.0    3.0    1.0      0.0   1.0  0.0      0.0          0.0      1\n",
       "18288    1.0    0.0    0.0      2.0   1.0  0.0      0.0          0.0      0\n",
       "18486    0.0    0.0    1.0      0.0   1.0  0.0      0.0          1.0      0\n",
       "18622    0.0    2.0    0.0      1.0   1.0  0.0      0.0          0.0      1\n",
       "18850    2.0    0.0    1.0      0.0   1.0  0.0      0.0          0.0      2\n",
       "\n",
       "[31404 rows x 9 columns]"
      ]
     },
     "execution_count": 45,
     "metadata": {},
     "output_type": "execute_result"
    }
   ],
   "source": [
    "cell_count"
   ]
  },
  {
   "cell_type": "code",
   "execution_count": 19,
   "metadata": {},
   "outputs": [
    {
     "name": "stderr",
     "output_type": "stream",
     "text": [
      " 37%|███▋      | 11/30 [00:00<00:00, 104.74it/s]"
     ]
    },
    {
     "name": "stdout",
     "output_type": "stream",
     "text": [
      "Working on DFCI_4.1...\n",
      "Working on DFCI_8.1...\n",
      "Working on DFCI_13.2...\n",
      "Working on DFCI_15.2...\n",
      "Working on DFCI_17.1...\n",
      "Working on DFCI_18.2...\n",
      "Working on DFCI_19.2...\n",
      "Working on DFCI_22.2...\n",
      "Working on DFCI_12.1...\n",
      "Working on DFCI_14.1...\n",
      "Working on DFCI_2.2...\n",
      "Working on DFCI_3.2...\n",
      "Working on DFCI_7.1...\n",
      "Working on DFCI_23.2...\n",
      "Working on Rochester_4...\n",
      "Working on Rochester_6...\n",
      "Working on Rochester_11...\n",
      "Working on Rochester_12...\n",
      "Working on Rochester_14...\n",
      "Working on Rochester_18...\n",
      "Working on Rochester_19...\n",
      "Working on Rochester_21...\n"
     ]
    },
    {
     "name": "stderr",
     "output_type": "stream",
     "text": [
      "100%|██████████| 30/30 [00:00<00:00, 103.29it/s]"
     ]
    },
    {
     "name": "stdout",
     "output_type": "stream",
     "text": [
      "Working on Rochester_23...\n",
      "Working on Rochester_13...\n",
      "Working on Rochester_15...\n",
      "Working on Rochester_17...\n",
      "Working on Rochester_25...\n",
      "Working on Rochester_7...\n",
      "Working on Rochester_16...\n",
      "Working on Rochester_9...\n"
     ]
    },
    {
     "name": "stderr",
     "output_type": "stream",
     "text": [
      "\n"
     ]
    }
   ],
   "source": [
    "df_ls = []\n",
    "\n",
    "for core in tqdm(annotation['coreName'].unique()):\n",
    "    print(f'Working on {core}...')\n",
    "    # Create a new figure for each core\n",
    "    #fig, ax = plt.subplots(figsize=(20, 20))\n",
    "\n",
    "    # subset data\n",
    "    sub_df = annotation.loc[annotation['coreName'] == core] \n",
    "    sub_df = sub_df.loc[~sub_df['Annotation'].isin(['Neutrophil', 'Other'])]\n",
    "    pts = sub_df.loc[:,['X_cent_fusion', 'Y_cent_fusion']].values\n",
    "    sub_df_reindex = sub_df.reset_index(drop = True)\n",
    "\n",
    "\n",
    "    idx = sub_df_reindex[sub_df_reindex['Annotation'] == 'CD4 T'].index\n",
    "\n",
    "    coreName = sub_df_reindex['coreName'].iloc[idx]\n",
    "    cellLabel = sub_df_reindex['cellLabel'].iloc[idx]\n",
    "    Annotation = sub_df_reindex['Annotation'].iloc[idx]\n",
    "\n",
    "    output_df = pd.concat([coreName, cellLabel, Annotation], axis = 1)\n",
    "\n",
    "    df_ls.append(output_df)"
   ]
  },
  {
   "cell_type": "code",
   "execution_count": 20,
   "metadata": {},
   "outputs": [],
   "source": [
    "cellLabel_coreName_df = pd.concat(df_ls)\n",
    "\n",
    "cellLabel_coreName_niche_df = pd.concat([cellLabel_coreName_df.reset_index(drop=True), cell_count.reset_index(drop=True)], axis = 1)"
   ]
  },
  {
   "cell_type": "code",
   "execution_count": 21,
   "metadata": {},
   "outputs": [
    {
     "data": {
      "text/html": [
       "<div>\n",
       "<style scoped>\n",
       "    .dataframe tbody tr th:only-of-type {\n",
       "        vertical-align: middle;\n",
       "    }\n",
       "\n",
       "    .dataframe tbody tr th {\n",
       "        vertical-align: top;\n",
       "    }\n",
       "\n",
       "    .dataframe thead th {\n",
       "        text-align: right;\n",
       "    }\n",
       "</style>\n",
       "<table border=\"1\" class=\"dataframe\">\n",
       "  <thead>\n",
       "    <tr style=\"text-align: right;\">\n",
       "      <th></th>\n",
       "      <th>coreName</th>\n",
       "      <th>cellLabel</th>\n",
       "      <th>Annotation</th>\n",
       "      <th>Tumor</th>\n",
       "      <th>CD4 T</th>\n",
       "      <th>CD8 T</th>\n",
       "      <th>M1-like</th>\n",
       "      <th>Treg</th>\n",
       "      <th>M2-like</th>\n",
       "      <th>DC</th>\n",
       "      <th>Endothelial</th>\n",
       "      <th>Niche</th>\n",
       "    </tr>\n",
       "  </thead>\n",
       "  <tbody>\n",
       "    <tr>\n",
       "      <th>0</th>\n",
       "      <td>DFCI_4.1</td>\n",
       "      <td>1918</td>\n",
       "      <td>CD4 T</td>\n",
       "      <td>1.0</td>\n",
       "      <td>2.0</td>\n",
       "      <td>1.0</td>\n",
       "      <td>1.0</td>\n",
       "      <td>0.0</td>\n",
       "      <td>0.0</td>\n",
       "      <td>0.0</td>\n",
       "      <td>0.0</td>\n",
       "      <td>1</td>\n",
       "    </tr>\n",
       "    <tr>\n",
       "      <th>1</th>\n",
       "      <td>DFCI_4.1</td>\n",
       "      <td>2345</td>\n",
       "      <td>CD4 T</td>\n",
       "      <td>3.0</td>\n",
       "      <td>0.0</td>\n",
       "      <td>0.0</td>\n",
       "      <td>0.0</td>\n",
       "      <td>1.0</td>\n",
       "      <td>0.0</td>\n",
       "      <td>0.0</td>\n",
       "      <td>0.0</td>\n",
       "      <td>4</td>\n",
       "    </tr>\n",
       "    <tr>\n",
       "      <th>2</th>\n",
       "      <td>DFCI_4.1</td>\n",
       "      <td>2595</td>\n",
       "      <td>CD4 T</td>\n",
       "      <td>2.0</td>\n",
       "      <td>1.0</td>\n",
       "      <td>2.0</td>\n",
       "      <td>0.0</td>\n",
       "      <td>0.0</td>\n",
       "      <td>0.0</td>\n",
       "      <td>0.0</td>\n",
       "      <td>0.0</td>\n",
       "      <td>3</td>\n",
       "    </tr>\n",
       "    <tr>\n",
       "      <th>3</th>\n",
       "      <td>DFCI_4.1</td>\n",
       "      <td>2822</td>\n",
       "      <td>CD4 T</td>\n",
       "      <td>0.0</td>\n",
       "      <td>2.0</td>\n",
       "      <td>3.0</td>\n",
       "      <td>0.0</td>\n",
       "      <td>1.0</td>\n",
       "      <td>1.0</td>\n",
       "      <td>1.0</td>\n",
       "      <td>0.0</td>\n",
       "      <td>3</td>\n",
       "    </tr>\n",
       "    <tr>\n",
       "      <th>4</th>\n",
       "      <td>DFCI_4.1</td>\n",
       "      <td>2834</td>\n",
       "      <td>CD4 T</td>\n",
       "      <td>0.0</td>\n",
       "      <td>5.0</td>\n",
       "      <td>1.0</td>\n",
       "      <td>0.0</td>\n",
       "      <td>0.0</td>\n",
       "      <td>0.0</td>\n",
       "      <td>0.0</td>\n",
       "      <td>0.0</td>\n",
       "      <td>2</td>\n",
       "    </tr>\n",
       "    <tr>\n",
       "      <th>...</th>\n",
       "      <td>...</td>\n",
       "      <td>...</td>\n",
       "      <td>...</td>\n",
       "      <td>...</td>\n",
       "      <td>...</td>\n",
       "      <td>...</td>\n",
       "      <td>...</td>\n",
       "      <td>...</td>\n",
       "      <td>...</td>\n",
       "      <td>...</td>\n",
       "      <td>...</td>\n",
       "      <td>...</td>\n",
       "    </tr>\n",
       "    <tr>\n",
       "      <th>33084</th>\n",
       "      <td>Rochester_9</td>\n",
       "      <td>18214</td>\n",
       "      <td>CD4 T</td>\n",
       "      <td>1.0</td>\n",
       "      <td>3.0</td>\n",
       "      <td>1.0</td>\n",
       "      <td>0.0</td>\n",
       "      <td>2.0</td>\n",
       "      <td>0.0</td>\n",
       "      <td>0.0</td>\n",
       "      <td>0.0</td>\n",
       "      <td>1</td>\n",
       "    </tr>\n",
       "    <tr>\n",
       "      <th>33085</th>\n",
       "      <td>Rochester_9</td>\n",
       "      <td>18288</td>\n",
       "      <td>CD4 T</td>\n",
       "      <td>1.0</td>\n",
       "      <td>0.0</td>\n",
       "      <td>1.0</td>\n",
       "      <td>2.0</td>\n",
       "      <td>1.0</td>\n",
       "      <td>0.0</td>\n",
       "      <td>0.0</td>\n",
       "      <td>0.0</td>\n",
       "      <td>0</td>\n",
       "    </tr>\n",
       "    <tr>\n",
       "      <th>33086</th>\n",
       "      <td>Rochester_9</td>\n",
       "      <td>18486</td>\n",
       "      <td>CD4 T</td>\n",
       "      <td>0.0</td>\n",
       "      <td>0.0</td>\n",
       "      <td>1.0</td>\n",
       "      <td>1.0</td>\n",
       "      <td>1.0</td>\n",
       "      <td>0.0</td>\n",
       "      <td>0.0</td>\n",
       "      <td>2.0</td>\n",
       "      <td>0</td>\n",
       "    </tr>\n",
       "    <tr>\n",
       "      <th>33087</th>\n",
       "      <td>Rochester_9</td>\n",
       "      <td>18622</td>\n",
       "      <td>CD4 T</td>\n",
       "      <td>0.0</td>\n",
       "      <td>2.0</td>\n",
       "      <td>0.0</td>\n",
       "      <td>1.0</td>\n",
       "      <td>1.0</td>\n",
       "      <td>0.0</td>\n",
       "      <td>0.0</td>\n",
       "      <td>0.0</td>\n",
       "      <td>0</td>\n",
       "    </tr>\n",
       "    <tr>\n",
       "      <th>33088</th>\n",
       "      <td>Rochester_9</td>\n",
       "      <td>18850</td>\n",
       "      <td>CD4 T</td>\n",
       "      <td>2.0</td>\n",
       "      <td>0.0</td>\n",
       "      <td>1.0</td>\n",
       "      <td>0.0</td>\n",
       "      <td>1.0</td>\n",
       "      <td>0.0</td>\n",
       "      <td>0.0</td>\n",
       "      <td>0.0</td>\n",
       "      <td>0</td>\n",
       "    </tr>\n",
       "  </tbody>\n",
       "</table>\n",
       "<p>33089 rows × 12 columns</p>\n",
       "</div>"
      ],
      "text/plain": [
       "          coreName  cellLabel Annotation  Tumor  CD4 T  CD8 T  M1-like  Treg  \\\n",
       "0         DFCI_4.1       1918      CD4 T    1.0    2.0    1.0      1.0   0.0   \n",
       "1         DFCI_4.1       2345      CD4 T    3.0    0.0    0.0      0.0   1.0   \n",
       "2         DFCI_4.1       2595      CD4 T    2.0    1.0    2.0      0.0   0.0   \n",
       "3         DFCI_4.1       2822      CD4 T    0.0    2.0    3.0      0.0   1.0   \n",
       "4         DFCI_4.1       2834      CD4 T    0.0    5.0    1.0      0.0   0.0   \n",
       "...            ...        ...        ...    ...    ...    ...      ...   ...   \n",
       "33084  Rochester_9      18214      CD4 T    1.0    3.0    1.0      0.0   2.0   \n",
       "33085  Rochester_9      18288      CD4 T    1.0    0.0    1.0      2.0   1.0   \n",
       "33086  Rochester_9      18486      CD4 T    0.0    0.0    1.0      1.0   1.0   \n",
       "33087  Rochester_9      18622      CD4 T    0.0    2.0    0.0      1.0   1.0   \n",
       "33088  Rochester_9      18850      CD4 T    2.0    0.0    1.0      0.0   1.0   \n",
       "\n",
       "       M2-like   DC  Endothelial  Niche  \n",
       "0          0.0  0.0          0.0      1  \n",
       "1          0.0  0.0          0.0      4  \n",
       "2          0.0  0.0          0.0      3  \n",
       "3          1.0  1.0          0.0      3  \n",
       "4          0.0  0.0          0.0      2  \n",
       "...        ...  ...          ...    ...  \n",
       "33084      0.0  0.0          0.0      1  \n",
       "33085      0.0  0.0          0.0      0  \n",
       "33086      0.0  0.0          2.0      0  \n",
       "33087      0.0  0.0          0.0      0  \n",
       "33088      0.0  0.0          0.0      0  \n",
       "\n",
       "[33089 rows x 12 columns]"
      ]
     },
     "execution_count": 21,
     "metadata": {},
     "output_type": "execute_result"
    }
   ],
   "source": [
    "cellLabel_coreName_niche_df"
   ]
  },
  {
   "cell_type": "code",
   "execution_count": 22,
   "metadata": {},
   "outputs": [],
   "source": [
    "cellLabel_coreName_niche_df.to_csv('../output/hop_analysis_121724/cellLabel_coreName_niche_one_hop_count.csv', index=False)"
   ]
  },
  {
   "cell_type": "code",
   "execution_count": 57,
   "metadata": {},
   "outputs": [
    {
     "data": {
      "text/html": [
       "<div>\n",
       "<style scoped>\n",
       "    .dataframe tbody tr th:only-of-type {\n",
       "        vertical-align: middle;\n",
       "    }\n",
       "\n",
       "    .dataframe tbody tr th {\n",
       "        vertical-align: top;\n",
       "    }\n",
       "\n",
       "    .dataframe thead th {\n",
       "        text-align: right;\n",
       "    }\n",
       "</style>\n",
       "<table border=\"1\" class=\"dataframe\">\n",
       "  <thead>\n",
       "    <tr style=\"text-align: right;\">\n",
       "      <th></th>\n",
       "      <th>coreName</th>\n",
       "      <th>ebv_status</th>\n",
       "    </tr>\n",
       "  </thead>\n",
       "  <tbody>\n",
       "    <tr>\n",
       "      <th>0</th>\n",
       "      <td>DFCI_4.1</td>\n",
       "      <td>Positive</td>\n",
       "    </tr>\n",
       "    <tr>\n",
       "      <th>1</th>\n",
       "      <td>DFCI_4.1</td>\n",
       "      <td>Positive</td>\n",
       "    </tr>\n",
       "    <tr>\n",
       "      <th>2</th>\n",
       "      <td>DFCI_4.1</td>\n",
       "      <td>Positive</td>\n",
       "    </tr>\n",
       "    <tr>\n",
       "      <th>3</th>\n",
       "      <td>DFCI_4.1</td>\n",
       "      <td>Positive</td>\n",
       "    </tr>\n",
       "    <tr>\n",
       "      <th>4</th>\n",
       "      <td>DFCI_4.1</td>\n",
       "      <td>Positive</td>\n",
       "    </tr>\n",
       "    <tr>\n",
       "      <th>...</th>\n",
       "      <td>...</td>\n",
       "      <td>...</td>\n",
       "    </tr>\n",
       "    <tr>\n",
       "      <th>79948</th>\n",
       "      <td>Rochester_9</td>\n",
       "      <td>Positive</td>\n",
       "    </tr>\n",
       "    <tr>\n",
       "      <th>79949</th>\n",
       "      <td>Rochester_9</td>\n",
       "      <td>Positive</td>\n",
       "    </tr>\n",
       "    <tr>\n",
       "      <th>79950</th>\n",
       "      <td>Rochester_9</td>\n",
       "      <td>Positive</td>\n",
       "    </tr>\n",
       "    <tr>\n",
       "      <th>79951</th>\n",
       "      <td>Rochester_9</td>\n",
       "      <td>Positive</td>\n",
       "    </tr>\n",
       "    <tr>\n",
       "      <th>79952</th>\n",
       "      <td>Rochester_9</td>\n",
       "      <td>Positive</td>\n",
       "    </tr>\n",
       "  </tbody>\n",
       "</table>\n",
       "<p>79953 rows × 2 columns</p>\n",
       "</div>"
      ],
      "text/plain": [
       "          coreName ebv_status\n",
       "0         DFCI_4.1   Positive\n",
       "1         DFCI_4.1   Positive\n",
       "2         DFCI_4.1   Positive\n",
       "3         DFCI_4.1   Positive\n",
       "4         DFCI_4.1   Positive\n",
       "...            ...        ...\n",
       "79948  Rochester_9   Positive\n",
       "79949  Rochester_9   Positive\n",
       "79950  Rochester_9   Positive\n",
       "79951  Rochester_9   Positive\n",
       "79952  Rochester_9   Positive\n",
       "\n",
       "[79953 rows x 2 columns]"
      ]
     },
     "execution_count": 57,
     "metadata": {},
     "output_type": "execute_result"
    }
   ],
   "source": [
    "tumor_coreName_ebv = pd.DataFrame({'coreName': [row['coreName'] for i, row in annotation[annotation['Annotation'].isin(['CD4 T', 'CD8 T'])].iterrows()],\n",
    "              'ebv_status': [row['ebv_status'] for i, row in annotation[annotation['Annotation'].isin(['CD4 T', 'CD8 T'])].iterrows()]})\n",
    "\n",
    "tumor_coreName_ebv"
   ]
  },
  {
   "cell_type": "code",
   "execution_count": 61,
   "metadata": {},
   "outputs": [
    {
     "data": {
      "image/png": "[encoded data removed]",
      "text/plain": [
       "<Figure size 1200x600 with 1 Axes>"
      ]
     },
     "metadata": {},
     "output_type": "display_data"
    },
    {
     "name": "stderr",
     "output_type": "stream",
     "text": [
      "/opt/miniconda3/envs/cellSeg/lib/python3.9/site-packages/seaborn/categorical.py:166: FutureWarning: Setting a gradient palette using color= is deprecated and will be removed in version 0.13. Set `palette='dark:.25'` for same effect.\n",
      "  warnings.warn(msg, FutureWarning)\n"
     ]
    },
    {
     "data": {
      "image/png": "[encoded data removed]",
      "text/plain": [
       "<Figure size 2000x1200 with 1 Axes>"
      ]
     },
     "metadata": {},
     "output_type": "display_data"
    }
   ],
   "source": [
    "tumor_coreName_ebv = pd.DataFrame({'coreName': [row['coreName'] for i, row in annotation[annotation['Annotation'].isin(['CD4 T'])].iterrows()],\n",
    "              'ebv_status': [row['ebv_status'] for i, row in annotation[annotation['Annotation'].isin(['CD4 T'])].iterrows()]})\n",
    "\n",
    "test = pd.concat([cell_count.reset_index(drop=True), tumor_coreName_ebv], axis = 1)\n",
    "\n",
    "test\n",
    "# Calculate proportions\n",
    "props = test.groupby(['Niche', 'ebv_status']).size().unstack(fill_value=0)\n",
    "props = props.div(props.sum(axis=1), axis=0)\n",
    "\n",
    "# Reorder columns to have 'Positive' first\n",
    "props = props[['Positive', 'Negative']]\n",
    "\n",
    "color_palette = {'Positive': '#D55E00', 'Negative': '#009E73'}\n",
    "\n",
    "# Create the dodged bar plot with custom colors\n",
    "ax = props.plot(kind='bar', figsize=(12, 6), width=0.8, color=[color_palette['Positive'], color_palette['Negative']])\n",
    "\n",
    "# Customize the plot\n",
    "plt.title('Proportion of EBV Status in Each 1-hop Motif')\n",
    "plt.xlabel('Niche')\n",
    "plt.ylabel('Proportion')\n",
    "plt.legend(title='EBV Status', bbox_to_anchor=(1.05, 1), loc='upper left')\n",
    "plt.xticks(rotation=45, ha='right')\n",
    "plt.tight_layout()\n",
    "\n",
    "# Add value labels on the bars\n",
    "for container in ax.containers:\n",
    "    ax.bar_label(container, fmt='%.2f', padding=3)\n",
    "\n",
    "plt.savefig('../output/hop_analysis_112524/plots/1_hop_compose_ROI.pdf')\n",
    "\n",
    "plt.show()\n",
    "import pandas as pd\n",
    "import matplotlib.pyplot as plt\n",
    "import seaborn as sns\n",
    "from scipy import stats\n",
    "import numpy as np\n",
    "from scipy.stats import bootstrap\n",
    "\n",
    "# Calculate proportions\n",
    "test['count'] = 1\n",
    "proportions = test.groupby(['coreName', 'ebv_status', 'Niche'])['count'].sum().unstack(level='Niche').fillna(0)\n",
    "proportions = proportions.div(proportions.sum(axis=1), axis=0)\n",
    "\n",
    "# Melt the dataframe\n",
    "proportions_melted = proportions.reset_index().melt(id_vars=['coreName', 'ebv_status'], \n",
    "                                                    var_name='Niche', value_name='Proportion')\n",
    "\n",
    "proportions_melted = proportions_melted.dropna()\n",
    "\n",
    "def mann_whitney_test(x, y):\n",
    "    statistic, p_value = stats.mannwhitneyu(x, y)\n",
    "    return p_value\n",
    "\n",
    "def cohens_d(x, y):\n",
    "    nx = len(x)\n",
    "    ny = len(y)\n",
    "    dof = nx + ny - 2\n",
    "    return (np.mean(x) - np.mean(y)) / np.sqrt(((nx-1)*np.std(x, ddof=1) ** 2 + (ny-1)*np.std(y, ddof=1) ** 2) / dof)\n",
    "\n",
    "def bootstrap_mean_diff(x, y, n_resamples=10000):\n",
    "    def statistic(x, y):\n",
    "        return np.mean(x) - np.mean(y)\n",
    "    res = bootstrap((x, y), statistic, n_resamples=n_resamples)\n",
    "    return res.confidence_interval\n",
    "\n",
    "\n",
    "def test_normality(data, group_name):\n",
    "    if len(data) < 3:\n",
    "        return f\"{group_name}: Too few samples for normality test\"\n",
    "    \n",
    "    statistic, p_value = stats.shapiro(data)\n",
    "    if p_value > 0.05:\n",
    "        return f\"{group_name}: Likely normal (p = {p_value:.3f})\"\n",
    "    else:\n",
    "        return f\"{group_name}: Likely not normal (p = {p_value:.3f})\"\n",
    "    \n",
    "color_palette = {'Positive': '#D55E00', 'Negative': '#009E73'}\n",
    "\n",
    "plt.figure(figsize=(20, 12))\n",
    "\n",
    "ax = sns.boxplot(data=proportions_melted, x='Niche', y='Proportion', hue='ebv_status', \n",
    "                 width=0.6, palette=color_palette, saturation=1.0, showfliers = False)\n",
    "\n",
    "sns.swarmplot(data=proportions_melted, x='Niche', y='Proportion', hue='ebv_status', \n",
    "              dodge=True, color='.25', size=5, alpha=0.7)\n",
    "\n",
    "\n",
    "niches = proportions_melted['Niche'].unique()\n",
    "for i, niche in enumerate(niches):\n",
    "    niche_data = proportions_melted[proportions_melted['Niche'] == niche]\n",
    "    ebv_pos = niche_data[niche_data['ebv_status'] == 'Positive']['Proportion']\n",
    "    ebv_neg = niche_data[niche_data['ebv_status'] == 'Negative']['Proportion']\n",
    "    \n",
    "    p_value = mann_whitney_test(ebv_pos, ebv_neg)\n",
    "    effect_size = cohens_d(ebv_pos, ebv_neg)\n",
    "    ci_low, ci_high = bootstrap_mean_diff(ebv_pos, ebv_neg)\n",
    "    \n",
    "    y_max = max(ebv_pos.max(), ebv_neg.max())\n",
    "    plt.text(i, 0.6, f\"p = {p_value:.3f}\\nd = {effect_size:.2f}\\nCI: [{ci_low:.2f}, {ci_high:.2f}]\", \n",
    "             ha='center', va='bottom', fontsize=10)\n",
    "\n",
    "plt.title('Proportion of 1-hop Motifs in Each Core by EBV Status', fontsize=16)\n",
    "plt.xlabel('Niche', fontsize=14)\n",
    "plt.ylabel('Proportion', fontsize=14)\n",
    "plt.xticks(rotation=45, ha='right', fontsize=12)\n",
    "plt.yticks(fontsize=12)\n",
    "plt.legend(title='EBV Status', title_fontsize='13', fontsize='12', bbox_to_anchor=(1.05, 1), loc='upper left')\n",
    "\n",
    "\n",
    "plt.tight_layout()\n",
    "plt.savefig('../output/hop_analysis_112524/plots/1_hop_in_core_by_ebv_test_ROI.pdf')\n",
    "plt.show()"
   ]
  }
 ],
 "metadata": {
  "kernelspec": {
   "display_name": "cellSeg",
   "language": "python",
   "name": "python3"
  },
  "language_info": {
   "codemirror_mode": {
    "name": "ipython",
    "version": 3
   },
   "file_extension": ".py",
   "mimetype": "text/x-python",
   "name": "python",
   "nbconvert_exporter": "python",
   "pygments_lexer": "ipython3",
   "version": "3.9.16"
  }
 },
 "nbformat": 4,
 "nbformat_minor": 2
}
