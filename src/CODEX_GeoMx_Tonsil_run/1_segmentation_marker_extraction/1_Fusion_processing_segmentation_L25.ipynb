{
 "cells": [
  {
   "cell_type": "markdown",
   "metadata": {},
   "source": [
    "## Required Library"
   ]
  },
  {
   "cell_type": "code",
   "execution_count": 1,
   "metadata": {},
   "outputs": [],
   "source": [
    "import cv2 \n",
    "import tifffile \n",
    "import numpy as np\n",
    "import math\n",
    "import pandas as pd\n",
    "\n",
    "import os \n",
    "os.environ[\"CUDA_VISIBLE_DEVICES\"]=\"0\" # specify visible gpu(s) 0-3\n",
    "import tensorflow as tf\n",
    "try:\n",
    "    tf_gpus = tf.config.list_physical_devices('GPU')\n",
    "    for gpu in tf_gpus:\n",
    "        tf.config.experimental.set_memory_growth(gpu, True) # allow memory growth on visible gpu(s)\n",
    "except:\n",
    "    pass \n",
    "\n",
    "import skimage.io as io\n",
    "from skimage import img_as_ubyte\n",
    "from datetime import datetime\n",
    "from matplotlib import pyplot as plt\n",
    "date = datetime.today().strftime('%Y-%m-%d')\n",
    "\n",
    "from deepcell.applications import Mesmer\n",
    "from deepcell.utils.plot_utils import create_rgb_image, make_outline_overlay\n"
   ]
  },
  {
   "cell_type": "markdown",
   "metadata": {},
   "source": [
    "## Fusion scan"
   ]
  },
  {
   "cell_type": "markdown",
   "metadata": {},
   "source": [
    "### Load Fusion scan"
   ]
  },
  {
   "cell_type": "code",
   "execution_count": 2,
   "metadata": {},
   "outputs": [],
   "source": [
    "fusion_scan = tifffile.imread('../FINAL-TONSIL_2nd_L25_Scan1.qptiff')\n"
   ]
  },
  {
   "cell_type": "code",
   "execution_count": null,
   "metadata": {},
   "outputs": [],
   "source": [
    "\n",
    "tifffile.imshow(fusion_scan[0])"
   ]
  },
  {
   "cell_type": "code",
   "execution_count": null,
   "metadata": {},
   "outputs": [],
   "source": [
    "fusion_scan.shape"
   ]
  },
  {
   "cell_type": "markdown",
   "metadata": {},
   "source": [
    "### Rotate Fusion scan"
   ]
  },
  {
   "cell_type": "code",
   "execution_count": null,
   "metadata": {},
   "outputs": [],
   "source": [
    "rotate_list = []\n",
    "\n",
    "for i in range(fusion_scan.shape[0]):\n",
    "    print(f'Rotating the {i}th channel')\n",
    "    channel_rotate = cv2.rotate(fusion_scan[i], cv2.ROTATE_180)\n",
    "    rotate_list.append(channel_rotate)\n",
    "\n",
    "fusion_rotate = np.stack(rotate_list)\n"
   ]
  },
  {
   "cell_type": "code",
   "execution_count": null,
   "metadata": {},
   "outputs": [],
   "source": [
    "\n",
    "tifffile.imshow(fusion_rotate[0])"
   ]
  },
  {
   "cell_type": "markdown",
   "metadata": {},
   "source": [
    "## Segmentation"
   ]
  },
  {
   "cell_type": "markdown",
   "metadata": {},
   "source": [
    "### Get nuclear and membrane channel"
   ]
  },
  {
   "cell_type": "code",
   "execution_count": null,
   "metadata": {},
   "outputs": [],
   "source": [
    "txt_file = open('../MarkerList_L25.txt', 'r')\n",
    "\n",
    "MarkerList = txt_file.read().split('\\n')\n",
    "\n",
    "txt_file.close()\n",
    "\n",
    "print(MarkerList)"
   ]
  },
  {
   "cell_type": "code",
   "execution_count": null,
   "metadata": {},
   "outputs": [],
   "source": [
    "\n",
    "nuclear = fusion_rotate[MarkerList.index('DAPI')]\n",
    "\n",
    "membrane = np.sum(np.sum([fusion_rotate[MarkerList.index('CD11b')] ,fusion_rotate[MarkerList.index('CD68')],\n",
    "                          fusion_rotate[MarkerList.index('CD20')] , fusion_rotate[MarkerList.index('CD163')], \n",
    "                          fusion_rotate[MarkerList.index('CD31')] , fusion_rotate[MarkerList.index('CD3')]], axis = 0))\n",
    "\n",
    "print(f'Nuclear channel bit depth: {nuclear.dtype}')\n",
    "print(f'Membrane channel bit depth: {membrane.dtype}')\n",
    "\n",
    "fig = plt.figure(figsize = (30,30))\n",
    "ax1 = fig.add_subplot(1,2,1)\n",
    "ax1.imshow(nuclear, cmap = 'gray')\n",
    "ax1.title.set_text('nuclear')\n",
    "ax2 = fig.add_subplot(1,2,2)\n",
    "ax2.imshow(membrane, cmap = 'gray')\n",
    "ax2.title.set_text('membrane')\n",
    "plt.show()\n"
   ]
  },
  {
   "cell_type": "code",
   "execution_count": null,
   "metadata": {},
   "outputs": [],
   "source": [
    "\n",
    "seg_stack = np.stack((nuclear, membrane), axis = -1)\n",
    "seg_stack = np.expand_dims(seg_stack, 0)\n",
    "\n",
    "print(seg_stack.shape)\n"
   ]
  },
  {
   "cell_type": "markdown",
   "metadata": {},
   "source": [
    "### Segment on sub region to test hyperparameter"
   ]
  },
  {
   "cell_type": "code",
   "execution_count": null,
   "metadata": {},
   "outputs": [],
   "source": [
    "crop_region = seg_stack[:, 12500:13000, 20000:20500, :]"
   ]
  },
  {
   "cell_type": "code",
   "execution_count": null,
   "metadata": {},
   "outputs": [],
   "source": [
    "fig = plt.figure(figsize = (30,30))\n",
    "ax1 = fig.add_subplot(1,2,1)\n",
    "ax1.imshow(crop_region[0,...,0], cmap = 'gray')\n",
    "ax1.title.set_text('nuclear')\n",
    "ax2 = fig.add_subplot(1,2,2)\n",
    "ax2.imshow(crop_region[0,...,1], cmap = 'gray')\n",
    "ax2.title.set_text('membrane')\n",
    "plt.show()"
   ]
  },
  {
   "cell_type": "code",
   "execution_count": null,
   "metadata": {},
   "outputs": [],
   "source": [
    "mesmer = Mesmer()\n",
    "predictions = mesmer.predict(crop_region, image_mpp = 0.5,\n",
    "                                postprocess_kwargs_whole_cell={\"maxima_threshold\" : 0.1,\n",
    "                                                             \"interior_threshold\" : 0.2},\n",
    "compartment = 'nuclear')\n",
    "\n",
    "rgb_image = create_rgb_image(crop_region, channel_colors = [\"green\", \"blue\"])\n",
    "overlay = make_outline_overlay(rgb_data = rgb_image, predictions = predictions)"
   ]
  },
  {
   "cell_type": "code",
   "execution_count": null,
   "metadata": {},
   "outputs": [],
   "source": [
    "\n",
    "fig = plt.figure(figsize = (100,100))\n",
    "ax1 = fig.add_subplot(1,2,1)\n",
    "ax1.imshow(rgb_image[0, ...], cmap = 'gray')\n",
    "ax1.title.set_text('Overlay')\n",
    "ax2 = fig.add_subplot(1,2,2)\n",
    "ax2.imshow(overlay[0, ...], cmap = 'gray')\n",
    "ax2.title.set_text('Segmentation')\n",
    "plt.show()"
   ]
  },
  {
   "cell_type": "markdown",
   "metadata": {},
   "source": [
    "### Segmentation"
   ]
  },
  {
   "cell_type": "code",
   "execution_count": null,
   "metadata": {},
   "outputs": [],
   "source": [
    "mesmer = Mesmer()\n",
    "predictions = mesmer.predict(seg_stack, image_mpp = 0.5,\n",
    "                                postprocess_kwargs_whole_cell={\"maxima_threshold\" : 0.075,\n",
    "                                                             \"interior_threshold\" : 0.2},\n",
    "                                                             compartment = 'both')"
   ]
  },
  {
   "cell_type": "code",
   "execution_count": 19,
   "metadata": {},
   "outputs": [],
   "source": [
    "rgb_image = create_rgb_image(seg_stack, channel_colors = [\"green\", \"blue\"])\n",
    "overlay = make_outline_overlay(rgb_data = rgb_image, predictions = predictions)\n",
    "\n",
    "\n"
   ]
  },
  {
   "cell_type": "code",
   "execution_count": 20,
   "metadata": {},
   "outputs": [],
   "source": [
    "tifffile.imwrite(\"../L25_seg/L25_seg_overlay.tiff\", overlay[0, ...]) # segmentation overlay (nuc + membrane + outline)\n",
    "tifffile.imwrite(\"../L25_seg/L25_MESMER_mask.tiff\", predictions[0, ..., 0]) # MESMER mask\n"
   ]
  },
  {
   "cell_type": "markdown",
   "metadata": {},
   "source": [
    "## Extract single cell information from Fusion scan"
   ]
  },
  {
   "cell_type": "markdown",
   "metadata": {},
   "source": [
    "### Read marker list"
   ]
  },
  {
   "cell_type": "code",
   "execution_count": null,
   "metadata": {},
   "outputs": [],
   "source": [
    "txt_file = open('../MarkerList_L25.txt', 'r')\n",
    "\n",
    "clusterChannels = txt_file.read().split('\\n')\n",
    "\n",
    "txt_file.close()\n",
    "\n",
    "print(clusterChannels)"
   ]
  },
  {
   "cell_type": "markdown",
   "metadata": {},
   "source": [
    "### Single tissue"
   ]
  },
  {
   "cell_type": "code",
   "execution_count": null,
   "metadata": {},
   "outputs": [],
   "source": [
    "import numpy as np\n",
    "import pandas as pd\n",
    "import matplotlib.pyplot as plt\n",
    "import skimage \n",
    "import skimage.io\n",
    "import skimage.measure\n",
    "import skimage.morphology\n",
    "from scipy.io import loadmat\n",
    "import os\n",
    "\n",
    "array_list=[]\n",
    "ROI_img = fusion_rotate\n",
    "channelNum = ROI_img.shape[0]\n",
    "for i in range(channelNum):\n",
    "    channelName = clusterChannels[i]\n",
    "    print(channelName)\n",
    "    t = ROI_img[i,...]\n",
    "    array_list.append(t)\n",
    "\n",
    "countsNoNoise=np.stack(array_list, axis=2) # count matrices in the image\n",
    "\n",
    "# load mask\n",
    "segMat = skimage.io.imread(\"../seg_result/L25_MESMER_mask.tiff\")\n",
    "stats = skimage.measure.regionprops(segMat)\n",
    "labelNum = len(stats) # number of actual cells not always equal to np.max(segMat)\n",
    "\n",
    "# init empty containers\n",
    "data = np.zeros((labelNum,channelNum))\n",
    "dataScaleSize = np.zeros((labelNum,channelNum))\n",
    "cellSizes = np.zeros((labelNum,1))\n",
    "cell_props = np.zeros((labelNum, 3))\n",
    "\n",
    "# extract info\n",
    "for i in range(labelNum): # for each cell (label)\n",
    "    cellLabel = stats[i].label\n",
    "    label_counts=[countsNoNoise[coord[0],coord[1],:] for coord in stats[i].coords] # all channel count for this cell\n",
    "    data[i, 0:channelNum] = np.sum(label_counts, axis=0) #  sum the counts for this cell\n",
    "    dataScaleSize[i,0:channelNum] = np.sum(label_counts, axis=0) / stats[i].area # scaled by size\n",
    "    cellSizes[i] = stats[i].area # cell sizes\n",
    "    cell_props[i, 0] = cellLabel\n",
    "    cell_props[i, 1] = stats[i].centroid[0] # Y_cent\n",
    "    cell_props[i, 2] = stats[i].centroid[1] # X_cent\n",
    "\n",
    "data_df = pd.DataFrame(data)\n",
    "data_df.columns = clusterChannels\n",
    "data_full = pd.concat((pd.DataFrame(cell_props, columns = [\"cellLabel\", \"Y_cent\", \"X_cent\"]), pd.DataFrame(cellSizes, columns = [\"cellSize\"]), data_df), axis=1)\n",
    "\n",
    "dataScaleSize_df = pd.DataFrame(dataScaleSize)\n",
    "dataScaleSize_df.columns = clusterChannels\n",
    "dataScaleSize_full = pd.concat((pd.DataFrame(cell_props, columns = [\"cellLabel\", \"Y_cent\", \"X_cent\"]), pd.DataFrame(cellSizes, columns = [\"cellSize\"]), dataScaleSize_df), axis = 1)\n",
    "\n",
    "# save all dfs\n",
    "save_dir = '../extracted_info_no_gate'\n",
    "\n",
    "if os.path.exists(save_dir) == False:\n",
    "    os.makedirs(save_dir)\n",
    "\n",
    "data_full.to_csv(save_dir + \"/L25_data_no_gate.csv\", index = False)\n",
    "dataScaleSize_full.to_csv(save_dir + \"/L25_dataScaleSize_no_gate.csv\", index = False)"
   ]
  },
  {
   "cell_type": "markdown",
   "metadata": {},
   "source": [
    "## Prepare image for mantis-viewer"
   ]
  },
  {
   "cell_type": "markdown",
   "metadata": {},
   "source": [
    "The tissue is too large to be viewed entirely in mantis. We need to split it into tiles"
   ]
  },
  {
   "cell_type": "markdown",
   "metadata": {},
   "source": [
    "### Calculate how many tiles we need"
   ]
  },
  {
   "cell_type": "code",
   "execution_count": 25,
   "metadata": {},
   "outputs": [],
   "source": [
    "TIESSUE_HEIGHT = fusion_rotate.shape[1]\n",
    "TISSUE_WIDTH = fusion_rotate.shape[2]\n",
    "\n",
    "TILE_SIZE = 2000\n",
    "\n",
    "N_TILE_X = math.ceil(TISSUE_WIDTH/TILE_SIZE)\n",
    "N_TILE_Y = math.ceil(TIESSUE_HEIGHT/TILE_SIZE)"
   ]
  },
  {
   "cell_type": "code",
   "execution_count": null,
   "metadata": {},
   "outputs": [],
   "source": [
    "counter = 0\n",
    "\n",
    "seg_mask = tifffile.imread('../seg_result/L25_MESMER_mask.tiff')\n",
    "\n",
    "for i in range(N_TILE_X):\n",
    "    x_start = i * 2000\n",
    "    x_end = (i+1) * 2000\n",
    "    for j in range(N_TILE_Y):\n",
    "        counter += 1\n",
    "        y_start = j * 2000\n",
    "        y_end = (j+1) * 2000\n",
    "\n",
    "        print(f\"tile {counter}. x_start: {x_start}, x_end: {x_end}, y_start: {y_start}, y_end: {y_end}\")\n",
    "\n",
    "    \n",
    "        \n",
    "        if os.path.exists(os.path.join('../mantis_img/L25_new', str(counter))) == False:\n",
    "            os.makedirs(os.path.join('../mantis_img/L25_new', str(counter)))\n",
    "        print(f\"Writing segmentation mask for tile {counter}\")\n",
    "        tifffile.imwrite(f\"../mantis_img/L25_new/{counter}/seg_mask.tiff\", seg_mask[y_start:y_end, x_start:x_end])\n",
    "        # Write filtered cell into a csv\n",
    "        unique_cellLabel = np.unique(seg_mask[y_start:y_end, x_start:x_end])\n",
    "        cellLabel_df = pd.DataFrame([counter] * len(unique_cellLabel), columns = ['tile_num'], index = None)\n",
    "        cellLabel_df['cellLabel'] = unique_cellLabel\n",
    "        cellLabel_df.to_csv(f'../mantis_img/L25_new/{counter}/{counter}.csv', index = False)\n",
    "\n",
    "        for k in range(fusion_rotate.shape[0]):\n",
    "            channel_name = clusterChannels[k]\n",
    "            print(f\"Writing {channel_name} for tile {counter}\")\n",
    "            tifffile.imwrite(os.path.join('../mantis_img/L25_new', str(counter), channel_name + '.tiff'), fusion_rotate[k, y_start:y_end, x_start:x_end])"
   ]
  }
 ],
 "metadata": {
  "kernelspec": {
   "display_name": "cellSeg",
   "language": "python",
   "name": "python3"
  },
  "language_info": {
   "codemirror_mode": {
    "name": "ipython",
    "version": 3
   },
   "file_extension": ".py",
   "mimetype": "text/x-python",
   "name": "python",
   "nbconvert_exporter": "python",
   "pygments_lexer": "ipython3",
   "version": "3.9.16"
  }
 },
 "nbformat": 4,
 "nbformat_minor": 2
}
