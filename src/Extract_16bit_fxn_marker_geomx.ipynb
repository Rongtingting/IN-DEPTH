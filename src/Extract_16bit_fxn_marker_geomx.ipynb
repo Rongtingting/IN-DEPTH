{
 "cells": [
  {
   "cell_type": "code",
   "execution_count": 1,
   "metadata": {},
   "outputs": [],
   "source": [
    "import cv2 \n",
    "import tifffile \n",
    "import numpy as np\n",
    "import math\n",
    "import pandas as pd\n",
    "import json\n",
    "\n",
    "from typing import List, Dict\n",
    "\n",
    "import logging \n",
    "\n",
    "import skimage \n",
    "import skimage.io\n",
    "import skimage.measure\n",
    "import skimage.morphology\n",
    "from scipy.io import loadmat\n",
    "\n",
    "import os \n",
    "\n",
    "\n",
    "import skimage.io as io\n",
    "from datetime import datetime\n",
    "from matplotlib import pyplot as plt\n",
    "date = datetime.today().strftime('%Y-%m-%d')\n",
    "\n",
    "from tqdm import tqdm\n",
    "\n",
    "# Configure logging\n",
    "logging.basicConfig(level=logging.INFO, format='%(asctime)s - %(levelname)s - %(message)s')\n"
   ]
  },
  {
   "cell_type": "code",
   "execution_count": 2,
   "metadata": {},
   "outputs": [],
   "source": [
    "DFCI_geomx = tifffile.imread('../data/geomx/DFCI_geomx.ome.tiff')\n",
    "DFCI_geomx_position = pd.read_csv('../data/DFCI_geomx_position.csv')\n",
    "Rochester_geomx = tifffile.imread('../data/geomx/Rochester_geomx.ome.tiff')\n",
    "Rochester_geomx_position = pd.read_csv('../data/Rochester_geomx_position.csv')"
   ]
  },
  {
   "cell_type": "code",
   "execution_count": 3,
   "metadata": {},
   "outputs": [],
   "source": [
    "LOWERBOUND_DF = pd.read_csv('../data/threshold_csv/lowerBound.csv')\n",
    "UPPERBOUND_DF = pd.read_csv('../data/threshold_csv/upperBound.csv')\n",
    "SELECTED_CORES = [\"Rochester_4\", \"Rochester_6\",\n",
    "                    \"Rochester_7\", \"Rochester_9\", \"Rochester_11\", \"Rochester_12\",\n",
    "                    \"Rochester_13\", \"Rochester_14\",\n",
    "                    \"Rochester_15\", \"Rochester_16\", \"Rochester_17\", \"Rochester_18\",\n",
    "                    \"Rochester_19\", \"Rochester_21\", \"Rochester_23\",\n",
    "                    \"Rochester_25\", \"DFCI_2.2\", \"DFCI_3.2\",\n",
    "                    \"DFCI_4.1\", \"DFCI_7.1\", \"DFCI_8.1\",\n",
    "                    \"DFCI_12.1\", \"DFCI_13.2\", \"DFCI_14.1\", \"DFCI_15.2\", \"DFCI_17.1\",\n",
    "                    \"DFCI_18.2\", \"DFCI_19.2\", \"DFCI_22.2\", \"DFCI_23.2\"]\n",
    "MARKERS_TO_EXTRACT = ['Syto13', 'Tox', 'PD-L1']\n",
    "CHANNELS = ['Tox', 'PD-L1']\n",
    "\n"
   ]
  },
  {
   "cell_type": "code",
   "execution_count": 4,
   "metadata": {},
   "outputs": [
    {
     "name": "stdout",
     "output_type": "stream",
     "text": [
      "Processing core 2.2\n",
      "Processing core 3.2\n",
      "Processing core 4.1\n",
      "Processing core 7.1\n",
      "Processing core 8.1\n",
      "Processing core 12.1\n",
      "Processing core 13.2\n",
      "Processing core 14.1\n",
      "Processing core 15.2\n",
      "Processing core 17.1\n",
      "Processing core 18.2\n",
      "Processing core 19.2\n",
      "Processing core 22.2\n",
      "Processing core 23.2\n",
      "Processing core 4\n",
      "Processing core 6\n",
      "Processing core 7\n",
      "Processing core 9\n",
      "Processing core 11\n",
      "Processing core 12\n",
      "Processing core 13\n",
      "Processing core 14\n",
      "Processing core 15\n",
      "Processing core 16\n",
      "Processing core 17\n",
      "Processing core 18\n",
      "Processing core 19\n",
      "Processing core 21\n",
      "Processing core 23\n",
      "Processing core 25\n"
     ]
    }
   ],
   "source": [
    "DFCI_dict = {}\n",
    "\n",
    "Rochester_dict = {}\n",
    "\n",
    "GEOMX_CHANNEL = ['Syto13', 'Tox', 'PD-L1', 'Myc']\n",
    "\n",
    "for i in DFCI_geomx_position['Core']:\n",
    "    if f'DFCI_{i}' in SELECTED_CORES:\n",
    "        DFCI_dict[i] = {}\n",
    "        x1 = DFCI_geomx_position[DFCI_geomx_position['Core'] == i]['x1'].values[0]\n",
    "        x2 = DFCI_geomx_position[DFCI_geomx_position['Core'] == i]['x2'].values[0]\n",
    "        y1 = DFCI_geomx_position[DFCI_geomx_position['Core'] == i]['y1'].values[0]\n",
    "        y2 = DFCI_geomx_position[DFCI_geomx_position['Core'] == i]['y2'].values[0]\n",
    "        core_img = DFCI_geomx[:, y1:y2, x1:x2]\n",
    "        print(f\"Processing core {i}\")\n",
    "        for j in range(len(GEOMX_CHANNEL)):\n",
    "            DFCI_dict[i][GEOMX_CHANNEL[j]] = core_img[j]\n",
    "    else:\n",
    "        continue\n",
    "\n",
    "\n",
    "for i in Rochester_geomx_position['Core']:\n",
    "    if f'Rochester_{i}' in SELECTED_CORES:\n",
    "        Rochester_dict[i] = {}\n",
    "        x1 = Rochester_geomx_position[Rochester_geomx_position['Core'] == i]['x1'].values[0]\n",
    "        x2 = Rochester_geomx_position[Rochester_geomx_position['Core'] == i]['x2'].values[0]\n",
    "        y1 = Rochester_geomx_position[Rochester_geomx_position['Core'] == i]['y1'].values[0]\n",
    "        y2 = Rochester_geomx_position[Rochester_geomx_position['Core'] == i]['y2'].values[0]\n",
    "        core_img = Rochester_geomx[:, y1:y2, x1:x2]\n",
    "        print(f\"Processing core {i}\")\n",
    "        for j in range(len(GEOMX_CHANNEL)):\n",
    "            Rochester_dict[i][GEOMX_CHANNEL[j]] = core_img[j]\n",
    "    else:\n",
    "        continue\n",
    "            \n",
    "\n",
    "    "
   ]
  },
  {
   "cell_type": "code",
   "execution_count": 5,
   "metadata": {},
   "outputs": [],
   "source": [
    "from typing import Dict, List\n",
    "def gate_markers(core_img: Dict[str, np.ndarray], coreName, channels, lowerBound_df, upperBound_df):\n",
    "\n",
    "    for marker in channels:\n",
    "        channel_img = core_img[marker]\n",
    "        lowerBound = lowerBound_df[lowerBound_df['Core'] == coreName][marker].values.item()\n",
    "        upperBound = upperBound_df[upperBound_df['Core'] == coreName][marker].values.item()\n",
    "        if not upperBound == 0:\n",
    "            img_filtered = np.copy(channel_img)\n",
    "            img_filtered[img_filtered <= lowerBound] = 0\n",
    "            img_filtered[img_filtered >= upperBound] = 0\n",
    "        else:\n",
    "            img_filtered = np.copy(channel_img)\n",
    "            img_filtered[img_filtered <= lowerBound] = 0\n",
    "        core_img[marker] = img_filtered\n",
    "    return core_img\n",
    "\n",
    "\n",
    "def extract_single_cell_info(core_img: Dict[str, np.ndarray], segmentation_mask: np.ndarray, \n",
    "                             interested_markers: List[str], output_path: str):\n",
    "    \"\"\"Extract single cell information from a core.\"\"\"\n",
    "    array_list = [core_img[channel] for channel in interested_markers]\n",
    "    counts_no_noise = np.stack(array_list, axis=2)\n",
    "\n",
    "    stats = skimage.measure.regionprops(segmentation_mask)\n",
    "    label_num = len(stats)\n",
    "\n",
    "    channel_num = len(array_list)\n",
    "    data = np.zeros((label_num, channel_num))\n",
    "    data_scale_size = np.zeros((label_num, channel_num))\n",
    "    cell_sizes = np.zeros((label_num, 1))\n",
    "    cell_props = np.zeros((label_num, 3))\n",
    "\n",
    "    for i, region in enumerate(stats):\n",
    "        cell_label = region.label\n",
    "        label_counts = [counts_no_noise[coord[0], coord[1], :] for coord in region.coords]\n",
    "        data[i] = np.sum(label_counts, axis=0)\n",
    "        data_scale_size[i] = data[i] / region.area\n",
    "        cell_sizes[i] = region.area\n",
    "        cell_props[i] = [cell_label, region.centroid[0], region.centroid[1]]\n",
    "\n",
    "    col_names = [marker for marker in interested_markers if marker != 'Empty']\n",
    "\n",
    "    data_df = pd.DataFrame(data, columns=col_names)\n",
    "    data_full = pd.concat([\n",
    "        pd.DataFrame(cell_props, columns=[\"cellLabel\", \"Y_cent\", \"X_cent\"]),\n",
    "        pd.DataFrame(cell_sizes, columns=[\"cellSize\"]),\n",
    "        data_df\n",
    "    ], axis=1)\n",
    "\n",
    "    data_scale_size_df = pd.DataFrame(data_scale_size, columns=col_names)\n",
    "    data_scale_size_full = pd.concat([\n",
    "        pd.DataFrame(cell_props, columns=[\"cellLabel\", \"Y_cent\", \"X_cent\"]),\n",
    "        pd.DataFrame(cell_sizes, columns=[\"cellSize\"]),\n",
    "        data_scale_size_df\n",
    "    ], axis=1)\n",
    "\n",
    "    os.makedirs(output_path, exist_ok=True)\n",
    "    data_full.to_csv(os.path.join(output_path, \"data.csv\"), index=False)\n",
    "    data_scale_size_full.to_csv(os.path.join(output_path, \"dataScaleSize.csv\"), index=False)\n",
    "\n",
    "\n",
    "\n",
    "\n"
   ]
  },
  {
   "cell_type": "code",
   "execution_count": 6,
   "metadata": {},
   "outputs": [
    {
     "name": "stderr",
     "output_type": "stream",
     "text": [
      "Processing cores: 100%|██████████| 14/14 [02:30<00:00, 10.78s/it]\n"
     ]
    }
   ],
   "source": [
    "for core_num, core_img in tqdm(DFCI_dict.items(), desc=\"Processing cores\"):\n",
    "    # Gate markers\n",
    "    core_img_filtered = gate_markers(core_img, f'DFCI_{core_num}', CHANNELS, LOWERBOUND_DF, UPPERBOUND_DF)\n",
    "\n",
    "    # Load segmentation mask\n",
    "    seg_mask_path = f'../output/seg_results/DFCI_geomx/core_{core_num}/MESMER_mask.tiff'\n",
    "    try:\n",
    "        segmentation_mask = tifffile.imread(seg_mask_path)\n",
    "    except FileNotFoundError:\n",
    "        #logging.warning(f\"Segmentation mask not found for core {core_num}. Skipping.\")\n",
    "        continue\n",
    "\n",
    "    # Extract single cell information\n",
    "    info_output_path = f'../output/extracted_info_geomx_gated/DFCI/{core_num}'\n",
    "    extract_single_cell_info(core_img_filtered, segmentation_mask, MARKERS_TO_EXTRACT, info_output_path)\n",
    "    #logging.info(f'Single cell information extracted for core {core_num}')"
   ]
  },
  {
   "cell_type": "code",
   "execution_count": 7,
   "metadata": {},
   "outputs": [
    {
     "name": "stderr",
     "output_type": "stream",
     "text": [
      "Processing cores: 100%|██████████| 16/16 [05:53<00:00, 22.12s/it]\n"
     ]
    }
   ],
   "source": [
    "for core_num, core_img in tqdm(Rochester_dict.items(), desc=\"Processing cores\"):\n",
    "    # Gate markers\n",
    "    core_img_filtered = gate_markers(core_img, f'Rochester_{core_num}', CHANNELS, LOWERBOUND_DF, UPPERBOUND_DF)\n",
    "\n",
    "    # Load segmentation mask\n",
    "    seg_mask_path = f'../output/img_registration/fusion_to_geomx/Rochester/Rochester_{core_num}/Rochester_aligned_MESMER_mask.tiff'\n",
    "    try:\n",
    "        segmentation_mask = tifffile.imread(seg_mask_path).astype('uint32')\n",
    "    except FileNotFoundError:\n",
    "        #logging.warning(f\"Segmentation mask not found for core {core_num}. Skipping.\")\n",
    "        continue\n",
    "\n",
    "    # Extract single cell information\n",
    "    info_output_path = f'../output/extracted_info_geomx_gated/Rochester/{core_num}'\n",
    "    extract_single_cell_info(core_img_filtered, segmentation_mask, MARKERS_TO_EXTRACT, info_output_path)"
   ]
  },
  {
   "cell_type": "code",
   "execution_count": null,
   "metadata": {},
   "outputs": [],
   "source": [
    "tifffile.imshow(core_img['Syto13'])"
   ]
  },
  {
   "cell_type": "code",
   "execution_count": null,
   "metadata": {},
   "outputs": [],
   "source": [
    "tifffile.imshow(Rochester_dict['25']['Tox'])"
   ]
  },
  {
   "cell_type": "code",
   "execution_count": null,
   "metadata": {},
   "outputs": [],
   "source": [
    "tifffile.imshow(core_img_filtered['Tox'])"
   ]
  },
  {
   "cell_type": "code",
   "execution_count": null,
   "metadata": {},
   "outputs": [],
   "source": [
    "tifffile.imshow((Rochester_dict['25']['Tox'] - core_img_filtered['Tox']), cmap = 'gray', vmax = 1)"
   ]
  },
  {
   "cell_type": "code",
   "execution_count": null,
   "metadata": {},
   "outputs": [],
   "source": [
    "(core_img['PD-L1'] - core_img_filtered['PD-L1'])"
   ]
  },
  {
   "cell_type": "code",
   "execution_count": null,
   "metadata": {},
   "outputs": [],
   "source": [
    "LOWERBOUND_DF"
   ]
  },
  {
   "cell_type": "code",
   "execution_count": null,
   "metadata": {},
   "outputs": [],
   "source": [
    "for marker in CHANNELS:\n",
    "    print(marker)\n",
    "    channel_img = Rochester_dict['4'][marker]\n",
    "    lowerBound = LOWERBOUND_DF[LOWERBOUND_DF['Core'] == 'Rochester_4'][marker].values.item()\n",
    "    upperBound = UPPERBOUND_DF[LOWERBOUND_DF['Core'] == 'Rochester_4'][marker].values.item()\n",
    "    print(f'{lowerBound}, {upperBound}')\n",
    "    print([i for i in np.unique(channel_img) if i <= lowerBound])\n",
    "    if not upperBound == 0:\n",
    "        img_filtered = np.copy(channel_img)\n",
    "        img_filtered[img_filtered <= lowerBound] = 0\n",
    "        img_filtered[img_filtered >= upperBound] = 0\n",
    "    else:\n",
    "        img_filtered = np.copy(channel_img)\n",
    "        img_filtered[img_filtered <= lowerBound] = 0\n",
    "    print([i for i in np.unique(img_filtered) if i <= lowerBound])\n",
    "    tifffile.imshow(channel_img[2500:3000, 2500:3000], vmax = 500, cmap = 'gray')\n",
    "    tifffile.imshow(img_filtered[2500:3000, 2500:3000], vmax = 500, cmap = 'gray')"
   ]
  }
 ],
 "metadata": {
  "kernelspec": {
   "display_name": "cellSeg",
   "language": "python",
   "name": "python3"
  },
  "language_info": {
   "codemirror_mode": {
    "name": "ipython",
    "version": 3
   },
   "file_extension": ".py",
   "mimetype": "text/x-python",
   "name": "python",
   "nbconvert_exporter": "python",
   "pygments_lexer": "ipython3",
   "version": "3.9.16"
  }
 },
 "nbformat": 4,
 "nbformat_minor": 2
}
